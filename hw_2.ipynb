{
 "cells": [
  {
   "cell_type": "markdown",
   "metadata": {},
   "source": [
    "task 1:"
   ]
  },
  {
   "cell_type": "code",
   "execution_count": 1,
   "metadata": {},
   "outputs": [
    {
     "name": "stdout",
     "output_type": "stream",
     "text": [
      "[[0.72094095 0.68934137 0.92153913]\n",
      " [0.70916267 0.77181462 0.93396345]\n",
      " [0.2110583  0.92328382 0.15946067]\n",
      " [0.85846958 0.51032957 0.4242974 ]\n",
      " [0.59738041 0.15091394 0.20428148]\n",
      " [0.02043702 0.11622563 0.22158805]\n",
      " [0.65853266 0.87547501 0.98716629]\n",
      " [0.84790349 0.75254442 0.47423499]\n",
      " [0.81040762 0.5050296  0.55699963]\n",
      " [0.48835001 0.87502419 0.72727017]]\n",
      "[0.68934137 0.70916267 0.2110583  0.51032957 0.59738041 0.22158805\n",
      " 0.65853266 0.47423499 0.5050296  0.48835001]\n"
     ]
    }
   ],
   "source": [
    "import numpy as np\n",
    "a = np.random.random((10, 3))\n",
    "print(a)\n",
    "print(a[np.arange(10), np.argmin(abs(a - 0.5), axis = 1)])"
   ]
  },
  {
   "cell_type": "markdown",
   "metadata": {},
   "source": [
    "task 2:"
   ]
  },
  {
   "cell_type": "code",
   "execution_count": 2,
   "metadata": {},
   "outputs": [
    {
     "name": "stdout",
     "output_type": "stream",
     "text": [
      "[[0.22373188 0.17368691 0.12750323 0.59808112 0.21020307 0.10656493]\n",
      " [0.99017704 0.47500051 0.03848035 0.84156332 0.3904704  0.29631887]\n",
      " [0.84790529 0.04623049 0.74689407 0.06006536 0.16357808 0.78572855]\n",
      " [0.06004531 0.45232292 0.43658831 0.91714843 0.38435225 0.03399554]\n",
      " [0.88098612 0.78646464 0.62094805 0.24781276 0.30734738 0.71891631]\n",
      " [0.42306816 0.17871646 0.62850184 0.82014027 0.17842426 0.03411528]]\n",
      "[23.97807803 65.58464858 68.87676152 38.03278246 21.7784385  66.56656379]\n"
     ]
    }
   ],
   "source": [
    "a = np.random.random((6, 6))\n",
    "print(a)\n",
    "print(np.sum(a, axis = 1) / np.min(a, axis = 0))"
   ]
  },
  {
   "cell_type": "markdown",
   "metadata": {},
   "source": [
    "task 3:"
   ]
  },
  {
   "cell_type": "code",
   "execution_count": 3,
   "metadata": {},
   "outputs": [
    {
     "name": "stdout",
     "output_type": "stream",
     "text": [
      "5\n"
     ]
    }
   ],
   "source": [
    "x = np.array([6, 2, 0, 3, 0, 0, 5, 7, 0])\n",
    "print(max(x[np.where(x[np.arange(len(x) - 1)] == 0)[0] + 1]))"
   ]
  },
  {
   "cell_type": "markdown",
   "metadata": {},
   "source": [
    "task 4:"
   ]
  },
  {
   "cell_type": "code",
   "execution_count": 4,
   "metadata": {},
   "outputs": [
    {
     "name": "stdout",
     "output_type": "stream",
     "text": [
      "[2. 2. 2. 2. 1. 4. 1. 1. 2. 1.]\n"
     ]
    }
   ],
   "source": [
    "x = np.ones(10)\n",
    "i = np.array([0, 1, 2, 3, 5, 5, 5, 8])\n",
    "x += np.bincount(i, minlength = len(x))[np.arange(len(x))]\n",
    "print(x)"
   ]
  },
  {
   "cell_type": "markdown",
   "metadata": {},
   "source": [
    "task 5:"
   ]
  },
  {
   "cell_type": "code",
   "execution_count": 5,
   "metadata": {},
   "outputs": [],
   "source": [
    "def kmeans(obs, k_or_guess, iter = 20, thresh = 1e-05):\n",
    "    if(type(k_or_guess) == int):\n",
    "        k = k_or_guess\n",
    "        (M, N) = obs.shape\n",
    "        if k >= M:\n",
    "            res = np.zeros((k, N))\n",
    "            res[np.arange(M)] = obs[np.arange(M)]\n",
    "            return (res, 0)\n",
    "        i = 0\n",
    "        p = 1\n",
    "        thresh_prev = thresh_curr = 0 \n",
    "        num_of_cluster = np.zeros(M)\n",
    "        best_dispersion = -1\n",
    "        diff = thresh + 1\n",
    "        t = np.arange(k)\n",
    "        t.shape = ((k, 1))\n",
    "        best_centroids = np.zeros((k, N))\n",
    "        while(i < iter):\n",
    "            if(p == 1):\n",
    "                start_indices = np.sort(np.random.randint(0, M - k + 1, k)) + np.arange(k_or_guess)\n",
    "                centroids = obs[start_indices]\n",
    "                centroids.shape = (1, k, N)\n",
    "                obs.shape = (M, 1, N)\n",
    "                num_of_cluster = np.argmin(np.sum((obs - centroids) ** 2, axis = 2), axis = 1)\n",
    "                centroids.shape = (k, N)\n",
    "                obs.shape = (M, N)\n",
    "                thresh_prev = np.mean(np.sum((obs - centroids[num_of_cluster]) ** 2, axis = 1))\n",
    "                p = 0\n",
    "            centroids.shape = (1, k, N)\n",
    "            obs.shape = (M, 1, N)\n",
    "            num_of_cluster = np.argmin(np.sum((obs - centroids) ** 2, axis = 2), axis = 1)\n",
    "            centroids.shape = (k, N)\n",
    "            obs.shape = (M, N)\n",
    "            centroids_new = np.zeros((k, N))\n",
    "            num_of_elem_in_cluster = np.zeros(k)\n",
    "            for j in range(M):\n",
    "                s = 0\n",
    "                centroids_new[num_of_cluster[j]] += obs[j]\n",
    "                num_of_elem_in_cluster[num_of_cluster[j]] += 1\n",
    "            l = len(np.where(num_of_elem_in_cluster == 0)[0])\n",
    "            if(l > 0):\n",
    "                if(thresh_prev < best_dispersion or (best_dispersion <= -1 and best_dispersion >= -1)):\n",
    "                    best_dispersion = thresh_prev\n",
    "                    best_centroids = centroids\n",
    "                i += 1\n",
    "                continue\n",
    "            centroids = centroids_new / num_of_elem_in_cluster.reshape((k, 1))\n",
    "            thresh_curr = np.mean(np.sum((obs - centroids[num_of_cluster]) ** 2, axis = 1))\n",
    "            diff = abs(thresh_curr - thresh_prev)\n",
    "            if(diff <= thresh):\n",
    "                diff = thresh + 1\n",
    "                i += 1\n",
    "                p = 1\n",
    "                if(thresh_curr < best_dispersion or (best_dispersion <= -1 and best_dispersion >= -1)):\n",
    "                    best_dispersion = thresh_curr\n",
    "                    best_centroids = centroids   \n",
    "            else:\n",
    "                num_of_elem_in_cluster = np.zeros(k)\n",
    "                centroids = np.zeros((k,N))\n",
    "                for j in range(M):\n",
    "                    centroids[num_of_cluster[j]] += obs[j]\n",
    "                    num_of_elem_in_cluster[num_of_cluster[j]] += 1\n",
    "                centroids /= num_of_elem_in_cluster.reshape((k, 1))\n",
    "                thresh_prev = thresh_curr\n",
    "        return (best_centroids, best_dispersion)"
   ]
  },
  {
   "cell_type": "markdown",
   "metadata": {},
   "source": [
    "task 6:"
   ]
  },
  {
   "cell_type": "code",
   "execution_count": 6,
   "metadata": {},
   "outputs": [],
   "source": [
    "url = 'https://raw.githubusercontent.com/sharmaroshan/Clustering-of-Mall-Customers/master/Mall_Customers.csv'\n",
    "data = np.loadtxt(url, delimiter=',', dtype=object, skiprows=1)"
   ]
  },
  {
   "cell_type": "code",
   "execution_count": 7,
   "metadata": {},
   "outputs": [],
   "source": [
    "data[:, 1] = data[:, 1] == 'Male'\n",
    "data = data.astype(float)"
   ]
  },
  {
   "cell_type": "code",
   "execution_count": 8,
   "metadata": {},
   "outputs": [],
   "source": [
    "def elbow_method(obs, max_k = 10, iter = 20, thresh = 1e-05):\n",
    "    points = np.zeros((max_k, 2))\n",
    "    for i in range(max_k):\n",
    "        points[i] = np.array([float(i + 1), kmeans(obs, i + 1, iter, thresh)[1]])\n",
    "    plt.scatter(points[:, 0], points[:, 1])\n",
    "    plt.xlabel('K')\n",
    "    plt.ylabel('Dispersion')\n",
    "    plt.show()"
   ]
  },
  {
   "cell_type": "code",
   "execution_count": 10,
   "metadata": {},
   "outputs": [
    {
     "data": {
      "image/png": "[encoded data removed]",
      "text/plain": [
       "<Figure size 432x288 with 1 Axes>"
      ]
     },
     "metadata": {
      "needs_background": "light"
     },
     "output_type": "display_data"
    },
    {
     "data": {
      "image/png": "[encoded data removed]",
      "text/plain": [
       "<Figure size 432x288 with 1 Axes>"
      ]
     },
     "metadata": {
      "needs_background": "light"
     },
     "output_type": "display_data"
    }
   ],
   "source": [
    "import matplotlib.pyplot as plt\n",
    "\n",
    "a_ai = data[:, [2, 3]]\n",
    "elbow_method(a_ai)\n",
    "\n",
    "plt.scatter(data[:, 2], data[:, 3])\n",
    "centroids = np.array(kmeans(a_ai, 4)[0])\n",
    "(k, N) = centroids.shape\n",
    "M = a_ai.shape[0]\n",
    "centroids.shape = (1, k, N)\n",
    "a_ai.shape = (M, 1, N)\n",
    "num_of_cluster = np.argmin(np.sum((a_ai - centroids) ** 2, axis = 2), axis = 1)\n",
    "a_ai.shape = (M, N)\n",
    "\n",
    "colors = ['r', 'b', 'g', 'y']\n",
    "labels = ['First group', 'Second group', 'Third group', 'Fourth group']\n",
    "for i in range(4):\n",
    "    arr = a_ai[np.where(num_of_cluster == i)]\n",
    "    plt.scatter(*arr.T, c=colors[i], label = labels[i])\n",
    "plt.xlabel('Age')\n",
    "plt.ylabel('Annual Income')\n",
    "plt.show()"
   ]
  },
  {
   "cell_type": "code",
   "execution_count": 11,
   "metadata": {},
   "outputs": [
    {
     "data": {
      "image/png": "[encoded data removed]",
      "text/plain": [
       "<Figure size 432x288 with 1 Axes>"
      ]
     },
     "metadata": {
      "needs_background": "light"
     },
     "output_type": "display_data"
    },
    {
     "data": {
      "image/png": "[encoded data removed]",
      "text/plain": [
       "<Figure size 432x288 with 1 Axes>"
      ]
     },
     "metadata": {
      "needs_background": "light"
     },
     "output_type": "display_data"
    }
   ],
   "source": [
    "a_ss = data[:, [2, 4]]\n",
    "elbow_method(a_ss)\n",
    "\n",
    "plt.scatter(data[:, 2], data[:, 4])\n",
    "centroids = np.array(kmeans(a_ss, 4)[0])\n",
    "(k, N) = centroids.shape\n",
    "M = a_ss.shape[0]\n",
    "centroids.shape = (1, k, N)\n",
    "a_ss.shape = (M, 1, N)\n",
    "num_of_cluster = np.argmin(np.sum((a_ss - centroids) ** 2, axis = 2), axis = 1)\n",
    "a_ss.shape = (M, N)\n",
    "\n",
    "colors = ['r', 'b', 'g', 'y']\n",
    "labels = ['First group', 'Second group', 'Third group', 'Fourth group']\n",
    "for i in range(4):\n",
    "    arr = a_ss[np.where(num_of_cluster == i)]\n",
    "    plt.scatter(*arr.T, c=colors[i], label = labels[i])\n",
    "plt.xlabel('Age')\n",
    "plt.ylabel('Spending Score')\n",
    "plt.show()"
   ]
  },
  {
   "cell_type": "code",
   "execution_count": 12,
   "metadata": {},
   "outputs": [
    {
     "data": {
      "image/png": "[encoded data removed]",
      "text/plain": [
       "<Figure size 432x288 with 1 Axes>"
      ]
     },
     "metadata": {
      "needs_background": "light"
     },
     "output_type": "display_data"
    },
    {
     "data": {
      "image/png": "[encoded data removed]",
      "text/plain": [
       "<Figure size 432x288 with 1 Axes>"
      ]
     },
     "metadata": {
      "needs_background": "light"
     },
     "output_type": "display_data"
    }
   ],
   "source": [
    "ai_ss = data[:, [3, 4]]\n",
    "elbow_method(ai_ss)\n",
    "plt.scatter(data[:, 3], data[:, 4])\n",
    "centroids = np.array(kmeans(ai_ss, 5)[0])\n",
    "(k, N) = centroids.shape\n",
    "M = ai_ss.shape[0]\n",
    "centroids.shape = (1, k, N)\n",
    "ai_ss.shape = (M, 1, N)\n",
    "num_of_cluster = np.argmin(np.sum((ai_ss - centroids) ** 2, axis = 2), axis = 1)\n",
    "ai_ss.shape = (M, N)\n",
    "\n",
    "colors = ['r', 'b', 'g', 'y', 'black']\n",
    "labels = ['First group', 'Second group', 'Third group', 'Fourth group', 'Fifth group']\n",
    "for i in range(5):\n",
    "    arr = ai_ss[np.where(num_of_cluster == i)]\n",
    "    plt.scatter(*arr.T, c=colors[i], label = labels[i])\n",
    "plt.xlabel('Annual Income')\n",
    "plt.ylabel('Spending Score')\n",
    "plt.show()"
   ]
  },
  {
   "cell_type": "code",
   "execution_count": null,
   "metadata": {},
   "outputs": [],
   "source": []
  }
 ],
 "metadata": {
  "kernelspec": {
   "display_name": "Python 3",
   "language": "python",
   "name": "python3"
  },
  "language_info": {
   "codemirror_mode": {
    "name": "ipython",
    "version": 3
   },
   "file_extension": ".py",
   "mimetype": "text/x-python",
   "name": "python",
   "nbconvert_exporter": "python",
   "pygments_lexer": "ipython3",
   "version": "3.8.3"
  }
 },
 "nbformat": 4,
 "nbformat_minor": 4
}
