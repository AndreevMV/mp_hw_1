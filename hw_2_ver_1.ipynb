{
 "cells": [
  {
   "cell_type": "markdown",
   "metadata": {},
   "source": [
    "task 1:"
   ]
  },
  {
   "cell_type": "code",
   "execution_count": 32,
   "metadata": {},
   "outputs": [
    {
     "name": "stdout",
     "output_type": "stream",
     "text": [
      "[[0.27194674 0.1060676  0.98964407]\n",
      " [0.18224846 0.28933983 0.91457815]\n",
      " [0.29178152 0.4826057  0.13803794]\n",
      " [0.16689137 0.56070481 0.60225025]\n",
      " [0.62959974 0.67429983 0.42453568]\n",
      " [0.53229748 0.92335761 0.65082693]\n",
      " [0.51827846 0.83930011 0.61784528]\n",
      " [0.75730499 0.70781381 0.25334849]\n",
      " [0.82367043 0.74364032 0.08652207]\n",
      " [0.23038264 0.73488718 0.64573552]]\n",
      "[0.27194674 0.28933983 0.4826057  0.56070481 0.42453568 0.53229748\n",
      " 0.51827846 0.70781381 0.74364032 0.64573552]\n"
     ]
    }
   ],
   "source": [
    "import numpy as np\n",
    "a = np.random.random((10, 3))\n",
    "print(a)\n",
    "print(a[np.arange(10), np.argmin(abs(a - 0.5), axis = 1)])"
   ]
  },
  {
   "cell_type": "markdown",
   "metadata": {},
   "source": [
    "task 2:"
   ]
  },
  {
   "cell_type": "code",
   "execution_count": 63,
   "metadata": {},
   "outputs": [
    {
     "name": "stdout",
     "output_type": "stream",
     "text": [
      "[[0.5792758  0.44591024 0.66398507 0.79641664 0.65010745 0.17631709]\n",
      " [0.03913435 0.41389882 0.40679013 0.27153601 0.07767989 0.76097622]\n",
      " [0.11958344 0.29448419 0.81277653 0.54033489 0.17669917 0.95237442]\n",
      " [0.2054244  0.22530683 0.41763484 0.06699408 0.15726846 0.23105413]\n",
      " [0.07863356 0.96397677 0.84851784 0.71857473 0.56722633 0.05644444]\n",
      " [0.432728   0.28091289 0.32366538 0.99117708 0.65932026 0.72583996]]\n",
      "[84.63184185  8.74370019  8.94829301 19.45967142 41.62433625 60.47794077]\n"
     ]
    }
   ],
   "source": [
    "a = np.random.random((6, 6))\n",
    "print(a)\n",
    "print(np.sum(a, axis = 1) / np.min(a, axis = 0))"
   ]
  },
  {
   "cell_type": "markdown",
   "metadata": {},
   "source": [
    "task 3:"
   ]
  },
  {
   "cell_type": "code",
   "execution_count": 149,
   "metadata": {},
   "outputs": [
    {
     "name": "stdout",
     "output_type": "stream",
     "text": [
      "5\n"
     ]
    }
   ],
   "source": [
    "x = np.array([6, 2, 0, 3, 0, 0, 5, 7, 0])\n",
    "print(max(x[np.where(x[np.arange(len(x) - 1)] == 0)[0] + 1]))"
   ]
  },
  {
   "cell_type": "markdown",
   "metadata": {},
   "source": [
    "task 4:"
   ]
  },
  {
   "cell_type": "code",
   "execution_count": 164,
   "metadata": {},
   "outputs": [
    {
     "name": "stdout",
     "output_type": "stream",
     "text": [
      "[2. 2. 2. 2. 1. 4. 1. 1. 1. 1.]\n"
     ]
    }
   ],
   "source": [
    "x = np.ones(10)\n",
    "i = np.array([0, 1, 2, 3, 5, 5, 5, 8])\n",
    "x += np.bincount(i, minlength = len(x))[np.arange(len(x))]\n",
    "print(x)"
   ]
  },
  {
   "cell_type": "markdown",
   "metadata": {},
   "source": [
    "task 5 (пока не работает):"
   ]
  },
  {
   "cell_type": "code",
   "execution_count": 279,
   "metadata": {},
   "outputs": [],
   "source": [
    "def kmeans(obs, k_or_guess, iter = 20, thresh = 1e-05):\n",
    "    if(type(k_or_guess == int)):\n",
    "        k = k_or_guess\n",
    "        (M, N) = obs.shape\n",
    "        if k >= M:\n",
    "            res = np.zeros((k, N))\n",
    "            res[np.arange(M), np.arange(N)] = obs\n",
    "            return (res, 0)\n",
    "        i = 0\n",
    "        p = 1\n",
    "        thresh_prev = thresh_curr = 0 \n",
    "        num_of_cluster = np.zeros(M)\n",
    "        best_dispersion = -1\n",
    "        diff = thresh + 1\n",
    "        centroids = np.empty((k, N))\n",
    "        t = np.arange(k)\n",
    "        t.shape = ((k, 1))\n",
    "        while(i < iter):\n",
    "            if(p == 1):\n",
    "                start_indices = sorted(np.random.randint(0, M - k + 1, k)) + np.arange(k_or_guess)\n",
    "                centroids = obs[start_indices]\n",
    "                centroids.shape = (1, k, N)\n",
    "                obs.shape = (M, 1, N)\n",
    "                num_of_cluster = np.argmin(np.sum((obs - centroids) ** 2, axis = 2), axis = 1)\n",
    "                centroids.shape = (k, N)\n",
    "                obs.shape = (M, N)\n",
    "                thresh_prev = np.mean(np.sum((obs - centroids[num_of_cluster]) ** 2, axis = 1))\n",
    "                p = 0\n",
    "            centroids.shape = (1, k, N)\n",
    "            obs.shape = (M, 1, N)\n",
    "            num_of_cluster = np.argmin(np.sum((obs - centroids) ** 2, axis = 2), axis = 1)\n",
    "            centroids.shape = (k, N)\n",
    "            obs.shape = (M, N)\n",
    "            centroids = np.mean(obs[np.where(num_of_cluster - t == 0)])\n",
    "            thresh_curr = np.mean(np.sum((obs - centroids[num_of_cluster]) ** 2, axis = 1))\n",
    "            diff = abs(thresh_curr - thresh_prev)\n",
    "            if(diff <= thresh):\n",
    "                diff = thresh + 1\n",
    "                i += 1\n",
    "                p = 1\n",
    "                if(thresh_curr < best_dispersion or best_dispersion == -1):\n",
    "                    best_dispersion = thresh_curr\n",
    "                    best_centroids = centroids\n",
    "        return (best_centroids, best_dispersion)"
   ]
  },
  {
   "cell_type": "code",
   "execution_count": null,
   "metadata": {},
   "outputs": [],
   "source": []
  }
 ],
 "metadata": {
  "kernelspec": {
   "display_name": "Python 3",
   "language": "python",
   "name": "python3"
  },
  "language_info": {
   "codemirror_mode": {
    "name": "ipython",
    "version": 3
   },
   "file_extension": ".py",
   "mimetype": "text/x-python",
   "name": "python",
   "nbconvert_exporter": "python",
   "pygments_lexer": "ipython3",
   "version": "3.8.3"
  }
 },
 "nbformat": 4,
 "nbformat_minor": 4
}
