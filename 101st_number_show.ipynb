{
 "cells": [
  {
   "cell_type": "code",
   "execution_count": 1,
   "metadata": {},
   "outputs": [],
   "source": [
    "import numpy as np\n",
    "arr = np.array([91143957525, 72152561493, 16488575863, 78723844732,\n",
    "39650992134, 49490708734, 95637955772, 91242543078,\n",
    "68627322005, 60631370900, 69953849019, 131494761995,\n",
    "62673807843, 59716054233, 69127367898, 39233755450,\n",
    "125455457666, 109600488012, 7431205397, 4385706296,\n",
    "75926220981, 97163031028, 72677334199, 36641911059,\n",
    "14174545774, 47464857381, 101634801557, 17933990204,\n",
    "98386511935, 74167797746, 82661475281, 99115221055,\n",
    "133097039008, 5924378212, 124040343623, 134483600734,\n",
    "31637525959, 134108093465, 98885399365, 113503340702,\n",
    "127568717809, 22819095499, 89973086127, 52412306129,\n",
    "68193868122, 105643387627, 131953791389, 83254262499,\n",
    "71639839245, 104792498353, 111111451072, 77913256122,\n",
    "87408310351, 48640876886, 117077153907, 5205956967,\n",
    "27714472246, 34875750439, 100215038203, 82904267139,\n",
    "64766351391, 116874708395, 24475216421, 40683855730,\n",
    "45722868978, 98815406129, 91404099330, 97127512068,\n",
    "23034155668, 96554614560, 83024886757, 62594243893,\n",
    "23255895237, 109335666325, 84674225740, 13641808209,\n",
    "21844939347, 30860664525, 78581286049, 13878598309,\n",
    "51215938257, 120374029609, 10889332075, 15566462607,\n",
    "29746343618, 55356465751, 51550673843, 113416258594,\n",
    "1171023799, 136712225207, 59794904654, 34872918073,\n",
    "98081973844, 75720369863, 80372265821, 91862303826,\n",
    "113335018225, 75687253385, 11012189811, 84538732806], dtype = object)"
   ]
  },
  {
   "cell_type": "markdown",
   "metadata": {},
   "source": [
    "Описание алгоритма:\n",
    "\n",
    "Пусть на вход подана последовательность A = (a[0], a[1], ..., a[99]).\n",
    "a[i + 1] = (a * a[i] + c) % m.\n",
    "Отсюда a[i + 1] = a * a[i] + c (mod m) и\n",
    "a[i + 2] - a[i + 1] = a * (a[i + 1] - a[i]) (mod m).\n",
    "Поэтому найдём разности d[i] = a[i + 1] - a[i]."
   ]
  },
  {
   "cell_type": "code",
   "execution_count": 2,
   "metadata": {},
   "outputs": [],
   "source": [
    "diff_arr = np.diff(arr)"
   ]
  },
  {
   "cell_type": "markdown",
   "metadata": {},
   "source": [
    "Потом заметим, что d[i + 2] = a * d[i + 1] = a^2 * d[i] (mod m), откуда d[i + 2] * d[i] = a^2 * d[i]^2 = (a * d[i])^2 = d[i + 1]^2 (mod m). То есть d[i + 2] * d[i] - d[i + 1] * d[i + 1] кратно m - получили много кратных числа m."
   ]
  },
  {
   "cell_type": "code",
   "execution_count": 3,
   "metadata": {},
   "outputs": [],
   "source": [
    "mult_arr = abs(diff_arr[:-2] * diff_arr[2:] - diff_arr[1:-1] ** 2)"
   ]
  },
  {
   "cell_type": "markdown",
   "metadata": {},
   "source": [
    "Осталось найти их НОД:"
   ]
  },
  {
   "cell_type": "code",
   "execution_count": 4,
   "metadata": {},
   "outputs": [],
   "source": [
    "M = np.gcd.reduce(mult_arr)"
   ]
  },
  {
   "cell_type": "markdown",
   "metadata": {},
   "source": [
    "Здесь нет точной гарантии, что НОД M таких разностей будет именно m (вдруг M будет всего лишь кратным числа m?). Посмотрим на M и максимальный элемент A."
   ]
  },
  {
   "cell_type": "code",
   "execution_count": 5,
   "metadata": {},
   "outputs": [
    {
     "name": "stdout",
     "output_type": "stream",
     "text": [
      "137438953447 136712225207 1.0053157516739972\n"
     ]
    }
   ],
   "source": [
    "print(M, max(arr[1:]), M / max(arr[1:]))"
   ]
  },
  {
   "cell_type": "markdown",
   "metadata": {},
   "source": [
    "Теперь можно смело утверждать, что M = m (ведь в противном случае M / m >= 2, но m больше любого элемента из A (кроме, возможно, первого). То есть в таком случае частное M / max(arr[1:]) > M / m >= 2, что неверно)."
   ]
  },
  {
   "cell_type": "code",
   "execution_count": 6,
   "metadata": {},
   "outputs": [],
   "source": [
    "m = M"
   ]
  },
  {
   "cell_type": "markdown",
   "metadata": {},
   "source": [
    "Теперь, зная m, найдём a. d[1] = a * d[0] (mod m), то есть d[1] = a * d[0] + b * m, где b - некоторое целое число. Посмотрим на НОД d[0] и m. "
   ]
  },
  {
   "cell_type": "code",
   "execution_count": 7,
   "metadata": {},
   "outputs": [
    {
     "data": {
      "text/plain": [
       "1"
      ]
     },
     "execution_count": 7,
     "metadata": {},
     "output_type": "execute_result"
    }
   ],
   "source": [
    "np.gcd(diff_arr[0], m)"
   ]
  },
  {
   "cell_type": "markdown",
   "metadata": {},
   "source": [
    "Получили 1, значит можно выразить 1 как линейную комбинацию d[0] и m. Напишем функцию, которая по двум данным числам определяет их НОД, а заодно и находит коэффициенты его линейного разложения."
   ]
  },
  {
   "cell_type": "code",
   "execution_count": 8,
   "metadata": {},
   "outputs": [],
   "source": [
    "def egcd(a, b):\n",
    "    if a == 0:\n",
    "        return (b, 0, 1)\n",
    "    else:\n",
    "        (g, x, y) = egcd(b % a, a)\n",
    "        return (g, y - (b // a) * x, x)"
   ]
  },
  {
   "cell_type": "markdown",
   "metadata": {},
   "source": [
    "Функция по паре (a, b) возвращает тройку чисел (g, x, y) такую, что g = НОД(a, b) и g = a * x + b * y."
   ]
  },
  {
   "cell_type": "markdown",
   "metadata": {},
   "source": [
    "У алгоритма две возможности. При a = 0 НОД(0, b) = b, а b = 0 * a + 1 * b. В противном случае можно поделить b на a с остатком, НОД g останется тем же. Имеем g = (b % a) * x + a * y = (b - a * (b // a)) * x + a * y = a * (y - (b // a) * x) + b * x, то есть возвращаем (g, y - (b // a) * x, x)."
   ]
  },
  {
   "cell_type": "markdown",
   "metadata": {},
   "source": [
    "Конечность алгоритма обеспечивается следующими наблюдениями: 1) При первом рекурсивном вызове и далее первый аргумент меньше второго. 2) Это означает, что во всех вызовах, начиная со второго, a < b, следовательно b % a + a < a + b, то есть сумма аргументов с каждым рекурсивным вызовом уменьшается хотя бы на 1, а сами они остаются неотрицательными целыми. Значит, данная функция закончит работать при любых неотрицательных целых a и b."
   ]
  },
  {
   "cell_type": "markdown",
   "metadata": {},
   "source": [
    "Теперь найдём a (оно определено с точностью до остатка при делении на m)."
   ]
  },
  {
   "cell_type": "code",
   "execution_count": 9,
   "metadata": {},
   "outputs": [
    {
     "data": {
      "text/plain": [
       "-18991396032"
      ]
     },
     "execution_count": 9,
     "metadata": {},
     "output_type": "execute_result"
    }
   ],
   "source": [
    "diff_arr[0]"
   ]
  },
  {
   "cell_type": "markdown",
   "metadata": {},
   "source": [
    "Применим функцию к модулю и возьмём со знаком минус (1 = u * d[0] + v * m = (-u) * (-d[0]) + v * m), затем умножим на d[1] и возьмём остаток при делении на m."
   ]
  },
  {
   "cell_type": "code",
   "execution_count": 10,
   "metadata": {},
   "outputs": [
    {
     "data": {
      "text/plain": [
       "(1, 24305623200, -3358565417)"
      ]
     },
     "execution_count": 10,
     "metadata": {},
     "output_type": "execute_result"
    }
   ],
   "source": [
    "egcd(abs(diff_arr[0]), m)"
   ]
  },
  {
   "cell_type": "code",
   "execution_count": 11,
   "metadata": {},
   "outputs": [
    {
     "data": {
      "text/plain": [
       "31450092817"
      ]
     },
     "execution_count": 11,
     "metadata": {},
     "output_type": "execute_result"
    }
   ],
   "source": [
    "a = (-egcd(abs(diff_arr[0]), m)[1] * diff_arr[1]) % m\n",
    "a"
   ]
  },
  {
   "cell_type": "markdown",
   "metadata": {},
   "source": [
    "Теперь найдём c (оно тоже определено с точностью до остатка при делении на m): a[1] = a * a[0] + c (mod m), c = a[1] - a * a[0] (mod m)."
   ]
  },
  {
   "cell_type": "code",
   "execution_count": 12,
   "metadata": {},
   "outputs": [],
   "source": [
    "c = (arr[1] - arr[0] * a) % m"
   ]
  },
  {
   "cell_type": "markdown",
   "metadata": {},
   "source": [
    "Теперь проверим правильность нахождения параметров LCG."
   ]
  },
  {
   "cell_type": "code",
   "execution_count": 13,
   "metadata": {},
   "outputs": [],
   "source": [
    "test_arr = np.zeros(len(arr) + 1, dtype = object)"
   ]
  },
  {
   "cell_type": "code",
   "execution_count": 14,
   "metadata": {},
   "outputs": [],
   "source": [
    "test_arr[0] = arr[0]\n",
    "for i in range(1, len(arr) + 1):\n",
    "    test_arr[i] = (test_arr[i - 1] * a + c) % m"
   ]
  },
  {
   "cell_type": "code",
   "execution_count": 15,
   "metadata": {},
   "outputs": [
    {
     "data": {
      "text/plain": [
       "0"
      ]
     },
     "execution_count": 15,
     "metadata": {},
     "output_type": "execute_result"
    }
   ],
   "source": [
    "np.max(np.abs(test_arr[:-1] - arr)) "
   ]
  },
  {
   "cell_type": "markdown",
   "metadata": {},
   "source": [
    "Отлично, массивы совпали. Ответ лежит в последнем элементе test_arr."
   ]
  },
  {
   "cell_type": "code",
   "execution_count": 16,
   "metadata": {},
   "outputs": [
    {
     "data": {
      "text/plain": [
       "2982350473"
      ]
     },
     "execution_count": 16,
     "metadata": {},
     "output_type": "execute_result"
    }
   ],
   "source": [
    "answer = test_arr[-1]\n",
    "answer"
   ]
  }
 ],
 "metadata": {
  "kernelspec": {
   "display_name": "Python 3",
   "language": "python",
   "name": "python3"
  },
  "language_info": {
   "codemirror_mode": {
    "name": "ipython",
    "version": 3
   },
   "file_extension": ".py",
   "mimetype": "text/x-python",
   "name": "python",
   "nbconvert_exporter": "python",
   "pygments_lexer": "ipython3",
   "version": "3.8.3"
  }
 },
 "nbformat": 4,
 "nbformat_minor": 4
}
