{
 "cells": [
  {
   "cell_type": "code",
   "execution_count": 1,
   "metadata": {},
   "outputs": [],
   "source": [
    "class Test:\n",
    "    @staticmethod\n",
    "    def assert_equals(a, b, *args, **kwargs):\n",
    "        assert a == b\n",
    "        print('Passed')\n",
    "    def assertEquals(a, b, *args, **kwargs):\n",
    "        assert a == b\n",
    "        print('Passed')\n",
    "    def assertSimilar(a, b, *args, **kwargs):\n",
    "        assert a == b\n",
    "        print('Passed')"
   ]
  },
  {
   "cell_type": "code",
   "execution_count": 2,
   "metadata": {},
   "outputs": [],
   "source": [
    "def arrayOfMultiples(num, length):\n",
    "    s = []\n",
    "    for i in range(length):\n",
    "        s.append((i + 1) * num)\n",
    "    return s"
   ]
  },
  {
   "cell_type": "code",
   "execution_count": 3,
   "metadata": {},
   "outputs": [
    {
     "name": "stdout",
     "output_type": "stream",
     "text": [
      "Passed\n",
      "Passed\n",
      "Passed\n",
      "Passed\n",
      "Passed\n",
      "Passed\n",
      "Passed\n"
     ]
    }
   ],
   "source": [
    "Test.assertSimilar(arrayOfMultiples(7, 5), [7, 14, 21, 28, 35])\n",
    "Test.assertSimilar(arrayOfMultiples(12, 10), [12, 24, 36, 48, 60, 72, 84, 96, 108, 120])\n",
    "Test.assertSimilar(arrayOfMultiples(17, 7), [17, 34, 51, 68, 85, 102, 119])\n",
    "Test.assertSimilar(arrayOfMultiples(630, 14), [630, 1260, 1890, 2520, 3150, 3780, 4410, 5040, 5670, 6300, 6930, 7560, 8190, 8820])\n",
    "Test.assertSimilar(arrayOfMultiples(140, 3), [140, 280, 420])\n",
    "Test.assertSimilar(arrayOfMultiples(7, 8), [7, 14, 21, 28, 35, 42, 49, 56])\n",
    "Test.assertSimilar(arrayOfMultiples(11, 21), [11, 22, 33, 44, 55, 66, 77, 88, 99, 110, 121, 132, 143, 154, 165, 176, 187, 198, 209, 220, 231])"
   ]
  },
  {
   "cell_type": "code",
   "execution_count": 4,
   "metadata": {},
   "outputs": [],
   "source": [
    "def sevenBoom(a):\n",
    "    for i in a:\n",
    "        while i > 0:\n",
    "            if(i % 10 == 7):\n",
    "                return \"Boom!\"\n",
    "            i //= 10\n",
    "    return \"there is no 7 in the array\""
   ]
  },
  {
   "cell_type": "code",
   "execution_count": 5,
   "metadata": {},
   "outputs": [
    {
     "name": "stdout",
     "output_type": "stream",
     "text": [
      "Passed\n",
      "Passed\n",
      "Passed\n",
      "Passed\n",
      "Passed\n"
     ]
    }
   ],
   "source": [
    "Test.assertEquals(sevenBoom([2, 6, 7, 9, 3]), \"Boom!\")\n",
    "Test.assertEquals(sevenBoom([33, 68, 400, 5]), \"there is no 7 in the array\")\n",
    "Test.assertEquals(sevenBoom([86, 48, 100, 66]), \"there is no 7 in the array\")\n",
    "Test.assertEquals(sevenBoom([76, 55, 44, 32]), \"Boom!\")\n",
    "Test.assertEquals(sevenBoom([35, 4, 9, 37]), \"Boom!\")"
   ]
  },
  {
   "cell_type": "code",
   "execution_count": 6,
   "metadata": {},
   "outputs": [],
   "source": [
    "def countBoomerangs(a):\n",
    "    l = len(a)\n",
    "    ans = 0\n",
    "    for i in range(l - 2):\n",
    "        if a[i] == a[i + 2] and a[i] != a[i + 1]:\n",
    "            ans += 1\n",
    "        i += 1\n",
    "    return ans"
   ]
  },
  {
   "cell_type": "code",
   "execution_count": 7,
   "metadata": {},
   "outputs": [
    {
     "name": "stdout",
     "output_type": "stream",
     "text": [
      "Passed\n",
      "Passed\n",
      "Passed\n",
      "Passed\n",
      "Passed\n",
      "Passed\n",
      "Passed\n",
      "Passed\n",
      "Passed\n",
      "Passed\n",
      "Passed\n",
      "Passed\n"
     ]
    }
   ],
   "source": [
    "Test.assertEquals(countBoomerangs([9, 5, 9, 5, 1, 1, 1]), 2)\n",
    "Test.assertEquals(countBoomerangs([5, 6, 6, 7, 6, 3, 9]), 1)\n",
    "Test.assertEquals(countBoomerangs([4, 4, 4, 9, 9, 9, 9]), 0)\n",
    "Test.assertEquals(countBoomerangs([5, 9, 5, 9, 5]), 3)\n",
    "Test.assertEquals(countBoomerangs([4, 4, 4, 8, 4, 8, 4]), 3)\n",
    "Test.assertEquals(countBoomerangs([2, 2, 2, 2, 2, 2, 3]), 0)\n",
    "Test.assertEquals(countBoomerangs([2, 2, 2, 2, 3, 2, 3]), 2)\n",
    "Test.assertEquals(countBoomerangs([1, 2, 1, 1, 1, 2, 1]), 2)\n",
    "Test.assertEquals(countBoomerangs([5, 1, 1, 1, 1, 4, 1]), 1)\n",
    "Test.assertEquals(countBoomerangs([3, 7, 3, 2, 1, 5, 1, 2, 2, -2, 2]), 3)\n",
    "Test.assertEquals(countBoomerangs([1, 7, 1, 7, 1, 7, 1]), 5)\n",
    "Test.assertEquals(countBoomerangs([5, 5, 5]), 0)"
   ]
  },
  {
   "cell_type": "code",
   "execution_count": 8,
   "metadata": {},
   "outputs": [],
   "source": [
    "def lcm(a, b):\n",
    "    a1 = a\n",
    "    b1 = b\n",
    "    while a1 > 0 and b1 > 0:\n",
    "        if(a1 > b1):\n",
    "            a1 %= b1\n",
    "        else:\n",
    "            b1 %= a1\n",
    "    return (a // (a1 + b1)) * b"
   ]
  },
  {
   "cell_type": "code",
   "execution_count": 9,
   "metadata": {},
   "outputs": [
    {
     "name": "stdout",
     "output_type": "stream",
     "text": [
      "Passed\n",
      "Passed\n",
      "Passed\n",
      "Passed\n",
      "Passed\n",
      "Passed\n"
     ]
    }
   ],
   "source": [
    "Test.assertEquals(lcm(9, 18), 18)\n",
    "Test.assertEquals(lcm(8, 5), 40)\n",
    "Test.assertEquals(lcm(17, 11), 187)\n",
    "Test.assertEquals(lcm(17, 5), 85)\n",
    "Test.assertEquals(lcm(3, 12), 12)\n",
    "Test.assertEquals(lcm(9, 9), 9)"
   ]
  },
  {
   "cell_type": "code",
   "execution_count": null,
   "metadata": {},
   "outputs": [],
   "source": []
  }
 ],
 "metadata": {
  "kernelspec": {
   "display_name": "Python 3",
   "language": "python",
   "name": "python3"
  },
  "language_info": {
   "codemirror_mode": {
    "name": "ipython",
    "version": 3
   },
   "file_extension": ".py",
   "mimetype": "text/x-python",
   "name": "python",
   "nbconvert_exporter": "python",
   "pygments_lexer": "ipython3",
   "version": "3.8.3"
  }
 },
 "nbformat": 4,
 "nbformat_minor": 4
}
